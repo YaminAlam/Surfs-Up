{
 "cells": [
  {
   "cell_type": "code",
   "execution_count": 1,
   "metadata": {},
   "outputs": [],
   "source": [
    "%matplotlib inline\n",
    "from matplotlib import style, figure\n",
    "style.use('fivethirtyeight')\n",
    "import matplotlib.pyplot as plt\n",
    "%matplotlib inline\n"
   ]
  },
  {
   "cell_type": "code",
   "execution_count": 2,
   "metadata": {},
   "outputs": [],
   "source": [
    "import numpy as np\n",
    "import pandas as pd"
   ]
  },
  {
   "cell_type": "code",
   "execution_count": 3,
   "metadata": {},
   "outputs": [],
   "source": [
    "import datetime as dt"
   ]
  },
  {
   "cell_type": "markdown",
   "metadata": {},
   "source": [
    "# Reflect Tables into SQLAlchemy ORM"
   ]
  },
  {
   "cell_type": "code",
   "execution_count": 4,
   "metadata": {},
   "outputs": [],
   "source": [
    "# Python SQL toolkit and Object Relational Mapper\n",
    "import sqlalchemy\n",
    "from sqlalchemy.ext.automap import automap_base\n",
    "from sqlalchemy.orm import Session\n",
    "from sqlalchemy import create_engine, func, inspect, desc"
   ]
  },
  {
   "cell_type": "code",
   "execution_count": 5,
   "metadata": {},
   "outputs": [],
   "source": [
    "engine = create_engine(\"sqlite:///Resources/hawaii.sqlite\")"
   ]
  },
  {
   "cell_type": "code",
   "execution_count": 6,
   "metadata": {},
   "outputs": [],
   "source": [
    "# reflecting an existing database into a new model\n",
    "Base = automap_base()\n",
    "# reflecting the tables\n",
    "Base.prepare(engine, reflect=True)"
   ]
  },
  {
   "cell_type": "code",
   "execution_count": 7,
   "metadata": {},
   "outputs": [
    {
     "data": {
      "text/plain": [
       "['measurement', 'station']"
      ]
     },
     "execution_count": 7,
     "metadata": {},
     "output_type": "execute_result"
    }
   ],
   "source": [
    "# We can view all of the classes that automap found\n",
    "Base.classes.keys()"
   ]
  },
  {
   "cell_type": "code",
   "execution_count": 8,
   "metadata": {},
   "outputs": [],
   "source": [
    "# Saving references to each table\n",
    "Measurement = Base.classes.measurement\n",
    "Station = Base.classes.station"
   ]
  },
  {
   "cell_type": "code",
   "execution_count": 9,
   "metadata": {},
   "outputs": [],
   "source": [
    "# Creating session (link) from Python to the DB\n",
    "session = Session(engine)\n",
    "inspector = inspect(engine)"
   ]
  },
  {
   "cell_type": "markdown",
   "metadata": {},
   "source": [
    "# Exploratory Climate Analysis"
   ]
  },
  {
   "cell_type": "code",
   "execution_count": 10,
   "metadata": {},
   "outputs": [
    {
     "name": "stdout",
     "output_type": "stream",
     "text": [
      "Table Names:\n",
      "measurement\n",
      "station\n",
      "\n",
      "\n",
      "'Measurement' Headers:\n",
      "id-INTEGER\n",
      "station-TEXT\n",
      "date-TEXT\n",
      "prcp-FLOAT\n",
      "tobs-FLOAT\n",
      "\n",
      "\n",
      "'Station' Headers:\n",
      "id-INTEGER\n",
      "station-TEXT\n",
      "name-TEXT\n",
      "latitude-FLOAT\n",
      "longitude-FLOAT\n",
      "elevation-FLOAT\n"
     ]
    }
   ],
   "source": [
    "#viewing table names\n",
    "table_names = inspector.get_table_names()\n",
    "print(\"Table Names:\")\n",
    "for table in table_names:\n",
    "    print(table)\n",
    "\n",
    "#viewing column headers for 'measurement'\n",
    "print(\"\\n\")\n",
    "print(\"'Measurement' Headers:\")\n",
    "columns = inspector.get_columns('measurement')\n",
    "for column in columns:\n",
    "    print(f\"{column['name']}-{column['type']}\")\n",
    "          \n",
    "#viewing column headers for 'station'\n",
    "print(\"\\n\")\n",
    "print(\"'Station' Headers:\")\n",
    "columns = inspector.get_columns('station')\n",
    "for column in columns:\n",
    "    print(f\"{column['name']}-{column['type']}\")"
   ]
  },
  {
   "cell_type": "code",
   "execution_count": 11,
   "metadata": {},
   "outputs": [
    {
     "data": {
      "image/png": "[encoded data removed]",
      "text/plain": [
       "<Figure size 720x576 with 1 Axes>"
      ]
     },
     "metadata": {
      "needs_background": "light"
     },
     "output_type": "display_data"
    }
   ],
   "source": [
    "# Designing a query to retrieve the last 12 months of precipitation data and plot the results\n",
    "\n",
    "# Calculating the date 1 year ago from the last data point in the database\n",
    "last_date = session.query(Measurement.date).order_by(Measurement.date.desc()).first()\n",
    "query_date = dt.date(2017,8,23) - dt.timedelta(days=365)\n",
    "\n",
    "# Performing a query to retrieve the data and precipitation scores\n",
    "prcp_measures = session.query(Measurement.date, Measurement.prcp).\\\n",
    "    filter(Measurement.date>=query_date).\\\n",
    "    order_by(Measurement.date.desc())\n",
    "    \n",
    "     \n",
    "# Saving the query results as a Pandas DataFrame, clean null values, and set the index to the date column\n",
    "df = pd.read_sql(prcp_measures.statement, session.bind)\n",
    "df_clean = df.dropna().set_index('date')\n",
    "\n",
    "# Sort the dataframe by date\n",
    "final_df=df_clean.sort_values('date')\n",
    "\n",
    "# Use Pandas Plotting with Matplotlib to plot the data\n",
    "year_temp_plot = final_df.plot(figsize=(10,8),\\\n",
    "                               xticks=[])\n"
   ]
  },
  {
   "cell_type": "markdown",
   "metadata": {},
   "source": [
    "![precipitation](Images/precipitation.png)"
   ]
  },
  {
   "cell_type": "code",
   "execution_count": 12,
   "metadata": {},
   "outputs": [
    {
     "data": {
      "text/html": [
       "<div>\n",
       "<style scoped>\n",
       "    .dataframe tbody tr th:only-of-type {\n",
       "        vertical-align: middle;\n",
       "    }\n",
       "\n",
       "    .dataframe tbody tr th {\n",
       "        vertical-align: top;\n",
       "    }\n",
       "\n",
       "    .dataframe thead th {\n",
       "        text-align: right;\n",
       "    }\n",
       "</style>\n",
       "<table border=\"1\" class=\"dataframe\">\n",
       "  <thead>\n",
       "    <tr style=\"text-align: right;\">\n",
       "      <th></th>\n",
       "      <th>Precipitation</th>\n",
       "    </tr>\n",
       "  </thead>\n",
       "  <tbody>\n",
       "    <tr>\n",
       "      <th>count</th>\n",
       "      <td>2021.000000</td>\n",
       "    </tr>\n",
       "    <tr>\n",
       "      <th>mean</th>\n",
       "      <td>0.177279</td>\n",
       "    </tr>\n",
       "    <tr>\n",
       "      <th>std</th>\n",
       "      <td>0.461190</td>\n",
       "    </tr>\n",
       "    <tr>\n",
       "      <th>min</th>\n",
       "      <td>0.000000</td>\n",
       "    </tr>\n",
       "    <tr>\n",
       "      <th>25%</th>\n",
       "      <td>0.000000</td>\n",
       "    </tr>\n",
       "    <tr>\n",
       "      <th>50%</th>\n",
       "      <td>0.020000</td>\n",
       "    </tr>\n",
       "    <tr>\n",
       "      <th>75%</th>\n",
       "      <td>0.130000</td>\n",
       "    </tr>\n",
       "    <tr>\n",
       "      <th>max</th>\n",
       "      <td>6.700000</td>\n",
       "    </tr>\n",
       "  </tbody>\n",
       "</table>\n",
       "</div>"
      ],
      "text/plain": [
       "       Precipitation\n",
       "count    2021.000000\n",
       "mean        0.177279\n",
       "std         0.461190\n",
       "min         0.000000\n",
       "25%         0.000000\n",
       "50%         0.020000\n",
       "75%         0.130000\n",
       "max         6.700000"
      ]
     },
     "execution_count": 12,
     "metadata": {},
     "output_type": "execute_result"
    }
   ],
   "source": [
    "# Use Pandas to calcualte the summary statistics for the precipitation data\n",
    "summ_stat=final_df.describe()\n",
    "summ_stat.rename(columns={'prcp':'Precipitation'})"
   ]
  },
  {
   "cell_type": "markdown",
   "metadata": {},
   "source": [
    "![describe](Images/describe.png)"
   ]
  },
  {
   "cell_type": "code",
   "execution_count": 13,
   "metadata": {},
   "outputs": [
    {
     "name": "stdout",
     "output_type": "stream",
     "text": [
      "There are 9 stations in this dataset\n"
     ]
    }
   ],
   "source": [
    "# Design a query to show how many stations are available in this dataset?\n",
    "station_ct = session.query(Station).count()\n",
    "print(f\"There are {station_ct} stations in this dataset\")"
   ]
  },
  {
   "cell_type": "code",
   "execution_count": 14,
   "metadata": {},
   "outputs": [
    {
     "name": "stdout",
     "output_type": "stream",
     "text": [
      "('USC00519281', 2772)\n",
      "('USC00519397', 2724)\n",
      "('USC00513117', 2709)\n",
      "('USC00519523', 2669)\n",
      "('USC00516128', 2612)\n",
      "('USC00514830', 2202)\n",
      "('USC00511918', 1979)\n",
      "('USC00517948', 1372)\n",
      "('USC00518838', 511)\n"
     ]
    }
   ],
   "source": [
    "# What are the most active stations? (i.e. what stations have the most rows)?\n",
    "# List the stations and the counts in descending order.\n",
    "active_stations=session.query(Measurement.station,func.count(Measurement.station).label('Total Data Entries')).\\\n",
    "    group_by(Measurement.station).\\\n",
    "    order_by(desc('Total Data Entries'))\n",
    "most_active_station = active_stations.first()[0]\n",
    "most_active_station_data_points = active_stations.first()[1]\n",
    "\n",
    "for stations in active_stations:\n",
    "    print(stations)\n"
   ]
  },
  {
   "cell_type": "code",
   "execution_count": 15,
   "metadata": {},
   "outputs": [
    {
     "name": "stdout",
     "output_type": "stream",
     "text": [
      "The USC00519281 station is the most active station with 2772 data points collected.\n",
      "\n",
      "\n",
      "Observations from Station: USC00519281 (degrees fahrenheit)\n",
      "--------------------------------------\n",
      "Lowest Temperature Recorded: 54.0\n",
      "Highest Temperature Recorded: 85.0\n",
      "Average Temperature: 71.66\n"
     ]
    }
   ],
   "source": [
    "# Using the station id from the previous query, calculate the lowest temperature recorded, \n",
    "# highest temperature recorded, and average temperature most active station?\n",
    "\n",
    "#grouping the types of data to retreive\n",
    "sel = [Measurement.date, \n",
    "       func.min(Measurement.tobs), \n",
    "       func.max(Measurement.tobs), \n",
    "       func.avg(Measurement.tobs)]\n",
    "\n",
    "#performing the query\n",
    "most_active_station_temp_data = session.query(*sel).\\\n",
    "    filter(Measurement.station==most_active_station)\n",
    "\n",
    "#MAS = most active station\n",
    "MAS_min_temp = most_active_station_temp_data[0][1]\n",
    "MAS_max_temp = most_active_station_temp_data[0][2]\n",
    "MAS_avg_temp = most_active_station_temp_data[0][3]\n",
    "\n",
    "print(f\"The {most_active_station} station is the most active station with {most_active_station_data_points} data points\\\n",
    " collected.\")\n",
    "print(\"\\n\")\n",
    "print(f\"Observations from Station: {active_stations.first()[0]} (degrees fahrenheit)\")\n",
    "print(\"--------------------------------------\")\n",
    "print(f\"Lowest Temperature Recorded: {MAS_min_temp}\")\n",
    "print(f\"Highest Temperature Recorded: {MAS_max_temp}\")\n",
    "print(f\"Average Temperature: {round(MAS_avg_temp,2)}\")"
   ]
  },
  {
   "cell_type": "code",
   "execution_count": 16,
   "metadata": {},
   "outputs": [
    {
     "data": {
      "text/plain": [
       "<matplotlib.axes._subplots.AxesSubplot at 0x170b04abba8>"
      ]
     },
     "execution_count": 16,
     "metadata": {},
     "output_type": "execute_result"
    },
    {
     "data": {
      "image/png": "[encoded data removed]",
      "text/plain": [
       "<Figure size 432x288 with 1 Axes>"
      ]
     },
     "metadata": {
      "needs_background": "light"
     },
     "output_type": "display_data"
    }
   ],
   "source": [
    "# Choose the station with the highest number of temperature observations.\n",
    "# Query the last 12 months of temperature observation data for this station and plot the results as a histogram\n",
    "\n",
    "\n",
    "# Calculating the date 1 year ago from the last data point in the database\n",
    "last_date_most_active = session.query(Measurement.date).\\\n",
    "    filter(Measurement.station==most_active_station).\\\n",
    "    order_by(Measurement.date.desc()).first()\n",
    "query_date_most_active = dt.date(2017,8,18) - dt.timedelta(days=365)\n",
    "\n",
    "\n",
    "#Performing a query to retrieve the data and precipitation scores\n",
    "prcp_measures_most_active = session.query(Measurement.tobs,Measurement.date).\\\n",
    "    filter(Measurement.station==most_active_station).\\\n",
    "    filter(Measurement.date>=query_date_most_active)\n",
    "\n",
    "df_most_active=pd.read_sql(prcp_measures_most_active.statement, session.bind)\n",
    "df_most_active.plot(kind='hist')"
   ]
  },
  {
   "cell_type": "markdown",
   "metadata": {},
   "source": [
    "![precipitation](Images/station-histogram.png)"
   ]
  },
  {
   "cell_type": "code",
   "execution_count": 17,
   "metadata": {},
   "outputs": [
    {
     "name": "stdout",
     "output_type": "stream",
     "text": [
      "[(62.0, 69.57142857142857, 74.0)]\n"
     ]
    }
   ],
   "source": [
    "# This function called `calc_temps` will accept start date and end date in the format '%Y-%m-%d' \n",
    "# and return the minimum, average, and maximum temperatures for that range of dates\n",
    "def calc_temps(start_date, end_date):\n",
    "    \"\"\"TMIN, TAVG, and TMAX for a list of dates.\n",
    "    \n",
    "    Args:\n",
    "        start_date (string): A date string in the format %Y-%m-%d\n",
    "        end_date (string): A date string in the format %Y-%m-%d\n",
    "        \n",
    "    Returns:\n",
    "        TMIN, TAVE, and TMAX\n",
    "    \"\"\"\n",
    "    \n",
    "    return session.query(func.min(Measurement.tobs), func.avg(Measurement.tobs), func.max(Measurement.tobs)).\\\n",
    "        filter(Measurement.date >= start_date).filter(Measurement.date <= end_date).all()\n",
    "\n",
    "# function usage example\n",
    "print(calc_temps('2012-02-28', '2012-03-05'))"
   ]
  },
  {
   "cell_type": "code",
   "execution_count": 40,
   "metadata": {},
   "outputs": [
    {
     "name": "stdout",
     "output_type": "stream",
     "text": [
      "Min: 72.0\n",
      "Avg: 78.3\n",
      "Max: 83.0\n"
     ]
    }
   ],
   "source": [
    "# Use your previous function `calc_temps` to calculate the tmin, tavg, and tmax \n",
    "# for your trip using the previous year's data for those same dates.\n",
    "my_trip = calc_temps('2016-08-13', '2016-08-20')\n",
    "tmin = my_trip[0][0]\n",
    "tavg = round(my_trip[0][1],1)\n",
    "tmax = my_trip[0][2]\n",
    "trip_start = dt.date(2016,8,13)\n",
    "trip_end = dt.date(2016,8,20)\n",
    "peaktopeak=tmax-tmin\n",
    "print(f\"Min: {tmin}\")\n",
    "print(f\"Avg: {tavg}\")\n",
    "print(f\"Max: {tmax}\")\n"
   ]
  },
  {
   "cell_type": "code",
   "execution_count": 41,
   "metadata": {},
   "outputs": [
    {
     "data": {
      "image/png": "[encoded data removed]",
      "text/plain": [
       "<Figure size 432x720 with 1 Axes>"
      ]
     },
     "metadata": {
      "needs_background": "light"
     },
     "output_type": "display_data"
    }
   ],
   "source": [
    "# Plot the results from your previous query as a bar chart. \n",
    "# Use \"Trip Avg Temp\" as your Title\n",
    "# Use the average temperature for the y value\n",
    "# Use the peak-to-peak (tmax-tmin) value as the y error bar (yerr)\n",
    "\n",
    "ind = 1    # the x locations for the groups\n",
    "\n",
    "plt.figure(figsize=(6,10))\n",
    "plt.xticks([])\n",
    "\n",
    "plt.title(\"Trip Avg Temp\")\n",
    "plt.ylabel(\"Temp (F)\")\n",
    "plt.xlim(.10 , 1.8)\n",
    "plt.ylim(0,110)\n",
    "\n",
    "mytrip_temp = plt.bar(ind, tavg, yerr=peaktopeak, color='pink', ecolor=\"black\", align=\"center\", alpha=0.5)\n"
   ]
  },
  {
   "cell_type": "code",
   "execution_count": 42,
   "metadata": {},
   "outputs": [
    {
     "name": "stdout",
     "output_type": "stream",
     "text": [
      "Total Rainfall from 8/13/2016 to 8/20/2016\n",
      "------------------------------------------\n",
      "\u001b[1mStation\u001b[0m: USC00513117, \u001b[1mPrecip\u001b[0m:0.61, \u001b[1mLocation\u001b[0m: (21.42, -157.8), \u001b[1mElv.\u001b[0m: 14.6\n",
      "   \u001b[1mName\u001b[0m:KANEOHE 838.1, HI US\n",
      "\u001b[1mStation\u001b[0m: USC00514830, \u001b[1mPrecip\u001b[0m:0.1, \u001b[1mLocation\u001b[0m: (21.52, -157.84), \u001b[1mElv.\u001b[0m: 7.0\n",
      "   \u001b[1mName\u001b[0m:KUALOA RANCH HEADQUARTERS 886.9, HI US\n",
      "\u001b[1mStation\u001b[0m: USC00516128, \u001b[1mPrecip\u001b[0m:6.01, \u001b[1mLocation\u001b[0m: (21.33, -157.8), \u001b[1mElv.\u001b[0m: 152.4\n",
      "   \u001b[1mName\u001b[0m:MANOA LYON ARBO 785.2, HI US\n",
      "\u001b[1mStation\u001b[0m: USC00517948, \u001b[1mPrecip\u001b[0m:0.0, \u001b[1mLocation\u001b[0m: (21.39, -157.98), \u001b[1mElv.\u001b[0m: 11.9\n",
      "   \u001b[1mName\u001b[0m:PEARL CITY, HI US\n",
      "\u001b[1mStation\u001b[0m: USC00519281, \u001b[1mPrecip\u001b[0m:1.28, \u001b[1mLocation\u001b[0m: (21.45, -157.85), \u001b[1mElv.\u001b[0m: 32.9\n",
      "   \u001b[1mName\u001b[0m:WAIHEE 837.5, HI US\n",
      "\u001b[1mStation\u001b[0m: USC00519397, \u001b[1mPrecip\u001b[0m:0.04, \u001b[1mLocation\u001b[0m: (21.27, -157.82), \u001b[1mElv.\u001b[0m: 3.0\n",
      "   \u001b[1mName\u001b[0m:WAIKIKI 717.2, HI US\n",
      "\u001b[1mStation\u001b[0m: USC00519523, \u001b[1mPrecip\u001b[0m:0.01, \u001b[1mLocation\u001b[0m: (21.34, -157.71), \u001b[1mElv.\u001b[0m: 19.5\n",
      "   \u001b[1mName\u001b[0m:WAIMANALO EXPERIMENTAL FARM, HI US\n"
     ]
    }
   ],
   "source": [
    "# Calculate the total amount of rainfall per weather station for your trip dates using the previous year's matching dates.\n",
    "# Sort this in descending order by precipitation amount and list the station, name, latitude, longitude, and elevation\n",
    "print(\"Total Rainfall from 8/13/2016 to 8/20/2016\")\n",
    "print(\"------------------------------------------\")\n",
    "for data in session.query(func.sum(Measurement.prcp),Measurement.station,Station.name,\\\n",
    "        Station.latitude,Station.longitude,Station.elevation).\\\n",
    "        filter(Measurement.station==Station.station).\\\n",
    "        filter(Measurement.date>=trip_start,).\\\n",
    "        filter(Measurement.date<=trip_end).group_by(Measurement.station):\n",
    "    print(f\"\\033[1mStation\\033[0m: {data[1]}, \\033[1mPrecip\\033[0m:{round(data[0],2)},\\\n",
    " \\033[1mLocation\\033[0m: {round(data[3],2),round(data[4],2)}, \\033[1mElv.\\033[0m: {data[5]}\\n \\\n",
    "  \\033[1mName\\033[0m:{data[2]}\")"
   ]
  },
  {
   "cell_type": "markdown",
   "metadata": {},
   "source": [
    "## Optional Challenge Assignment"
   ]
  },
  {
   "cell_type": "code",
   "execution_count": 20,
   "metadata": {},
   "outputs": [
    {
     "data": {
      "text/plain": [
       "(62.0, 69.15384615384616, 77.0)"
      ]
     },
     "execution_count": 20,
     "metadata": {},
     "output_type": "execute_result"
    }
   ],
   "source": [
    "# Create a query that will calculate the daily normals \n",
    "# (i.e. the averages for tmin, tmax, and tavg for all historic data matching a specific month and day)\n",
    "\n",
    "def daily_normals(date):\n",
    "    \"\"\"Daily Normals.\n",
    "    \n",
    "    Args:\n",
    "        date (str): A date string in the format '%m-%d'\n",
    "        \n",
    "    Returns:\n",
    "        A list of tuples containing the daily normals, tmin, tavg, and tmax\n",
    "    \n",
    "    \"\"\"\n",
    "    \n",
    "    sel = [func.min(Measurement.tobs), func.avg(Measurement.tobs), func.max(Measurement.tobs)]\n",
    "    return session.query(*sel).filter(func.strftime(\"%m-%d\", Measurement.date) == date).first()\n",
    "    \n",
    "daily_normals(\"01-01\")"
   ]
  },
  {
   "cell_type": "code",
   "execution_count": 21,
   "metadata": {},
   "outputs": [],
   "source": [
    "# calculate the daily normals for your trip\n",
    "# push each tuple of calculations into a list called `normals`\n",
    "normals = []\n",
    "\n",
    "# Set the start and end date of the trip\n",
    "start = dt.datetime.strptime(\"2016-08-13\", \"%-y%m-%d\")\n",
    "end = dt.datetime.strptime(\"08-20\", \"%m-%d\")\n",
    "# Use the start and end date to create a range of dates\n",
    "date_generated = [start + dt.timedelta(days=x) for x in range(0, (end-start).days)]\n",
    "\n",
    "# Stip off the year and save a list of %m-%d strings\n",
    "vac_days = []\n",
    "\n",
    "for date in date_generated:\n",
    "    vac_days.append(date.strftime(\"%m-%d\"))  \n",
    "# Loop through the list of %m-%d strings and calculate the normals for each date\n",
    "for date in vac_days:\n",
    "    normals.append(daily_normals(date))"
   ]
  },
  {
   "cell_type": "code",
   "execution_count": 22,
   "metadata": {},
   "outputs": [
    {
     "data": {
      "text/html": [
       "<div>\n",
       "<style scoped>\n",
       "    .dataframe tbody tr th:only-of-type {\n",
       "        vertical-align: middle;\n",
       "    }\n",
       "\n",
       "    .dataframe tbody tr th {\n",
       "        vertical-align: top;\n",
       "    }\n",
       "\n",
       "    .dataframe thead th {\n",
       "        text-align: right;\n",
       "    }\n",
       "</style>\n",
       "<table border=\"1\" class=\"dataframe\">\n",
       "  <thead>\n",
       "    <tr style=\"text-align: right;\">\n",
       "      <th></th>\n",
       "      <th>tmin</th>\n",
       "      <th>tavg</th>\n",
       "      <th>tmax</th>\n",
       "    </tr>\n",
       "    <tr>\n",
       "      <th>Dates</th>\n",
       "      <th></th>\n",
       "      <th></th>\n",
       "      <th></th>\n",
       "    </tr>\n",
       "  </thead>\n",
       "  <tbody>\n",
       "    <tr>\n",
       "      <th>08-13</th>\n",
       "      <td>71.0</td>\n",
       "      <td>76.982456</td>\n",
       "      <td>84.0</td>\n",
       "    </tr>\n",
       "    <tr>\n",
       "      <th>08-14</th>\n",
       "      <td>71.0</td>\n",
       "      <td>76.777778</td>\n",
       "      <td>82.0</td>\n",
       "    </tr>\n",
       "    <tr>\n",
       "      <th>08-15</th>\n",
       "      <td>69.0</td>\n",
       "      <td>76.471698</td>\n",
       "      <td>83.0</td>\n",
       "    </tr>\n",
       "    <tr>\n",
       "      <th>08-16</th>\n",
       "      <td>69.0</td>\n",
       "      <td>76.080000</td>\n",
       "      <td>83.0</td>\n",
       "    </tr>\n",
       "    <tr>\n",
       "      <th>08-17</th>\n",
       "      <td>69.0</td>\n",
       "      <td>76.125000</td>\n",
       "      <td>83.0</td>\n",
       "    </tr>\n",
       "    <tr>\n",
       "      <th>08-18</th>\n",
       "      <td>70.0</td>\n",
       "      <td>76.923077</td>\n",
       "      <td>84.0</td>\n",
       "    </tr>\n",
       "    <tr>\n",
       "      <th>08-19</th>\n",
       "      <td>69.0</td>\n",
       "      <td>75.946429</td>\n",
       "      <td>85.0</td>\n",
       "    </tr>\n",
       "  </tbody>\n",
       "</table>\n",
       "</div>"
      ],
      "text/plain": [
       "       tmin       tavg  tmax\n",
       "Dates                       \n",
       "08-13  71.0  76.982456  84.0\n",
       "08-14  71.0  76.777778  82.0\n",
       "08-15  69.0  76.471698  83.0\n",
       "08-16  69.0  76.080000  83.0\n",
       "08-17  69.0  76.125000  83.0\n",
       "08-18  70.0  76.923077  84.0\n",
       "08-19  69.0  75.946429  85.0"
      ]
     },
     "execution_count": 22,
     "metadata": {},
     "output_type": "execute_result"
    }
   ],
   "source": [
    "# Load the previous query results into a Pandas DataFrame and add the `trip_dates` range as the `date` index\n",
    "dates_df = pd.DataFrame(vac_days,columns=[\"Dates\"])\n",
    "normals_df = pd.DataFrame(normals, columns=[\"tmin\",\"tavg\",\"tmax\"])\n",
    "vac_normals_df = pd.concat([dates_df,normals_df], axis=1).set_index('Dates')\n",
    "vac_normals_df"
   ]
  },
  {
   "cell_type": "code",
   "execution_count": 23,
   "metadata": {},
   "outputs": [
    {
     "data": {
      "text/plain": [
       "(array([0., 1., 2., 3., 4., 5., 6.]), <a list of 7 Text xticklabel objects>)"
      ]
     },
     "execution_count": 23,
     "metadata": {},
     "output_type": "execute_result"
    },
    {
     "data": {
      "image/png": "[encoded data removed]",
      "text/plain": [
       "<Figure size 432x288 with 1 Axes>"
      ]
     },
     "metadata": {
      "needs_background": "light"
     },
     "output_type": "display_data"
    }
   ],
   "source": [
    "# Plot the daily normals as an area plot with `stacked=False`\n",
    "daily_normals_plot = vac_normals_df.plot.area(stacked='False', alpha=0.5)\n",
    "plt.xticks(rotation=45)\n"
   ]
  },
  {
   "cell_type": "code",
   "execution_count": null,
   "metadata": {},
   "outputs": [],
   "source": []
  },
  {
   "cell_type": "code",
   "execution_count": null,
   "metadata": {},
   "outputs": [],
   "source": []
  },
  {
   "cell_type": "code",
   "execution_count": null,
   "metadata": {},
   "outputs": [],
   "source": []
  }
 ],
 "metadata": {
  "kernel_info": {
   "name": "python3"
  },
  "kernelspec": {
   "display_name": "Python 3",
   "language": "python",
   "name": "python3"
  },
  "language_info": {
   "codemirror_mode": {
    "name": "ipython",
    "version": 3
   },
   "file_extension": ".py",
   "mimetype": "text/x-python",
   "name": "python",
   "nbconvert_exporter": "python",
   "pygments_lexer": "ipython3",
   "version": "3.7.3"
  },
  "nteract": {
   "version": "0.12.3"
  },
  "varInspector": {
   "cols": {
    "lenName": 16,
    "lenType": 16,
    "lenVar": 40
   },
   "kernels_config": {
    "python": {
     "delete_cmd_postfix": "",
     "delete_cmd_prefix": "del ",
     "library": "var_list.py",
     "varRefreshCmd": "print(var_dic_list())"
    },
    "r": {
     "delete_cmd_postfix": ") ",
     "delete_cmd_prefix": "rm(",
     "library": "var_list.r",
     "varRefreshCmd": "cat(var_dic_list()) "
    }
   },
   "types_to_exclude": [
    "module",
    "function",
    "builtin_function_or_method",
    "instance",
    "_Feature"
   ],
   "window_display": false
  }
 },
 "nbformat": 4,
 "nbformat_minor": 2
}
